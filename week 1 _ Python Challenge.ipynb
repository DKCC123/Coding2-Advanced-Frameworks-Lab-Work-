{
 "cells": [
  {
   "cell_type": "code",
   "execution_count": null,
   "id": "b68df7a8",
   "metadata": {},
   "outputs": [],
   "source": [
    "#Python Challenge 01"
   ]
  },
  {
   "cell_type": "code",
   "execution_count": null,
   "id": "0b9056c8",
   "metadata": {},
   "outputs": [],
   "source": [
    "class PythonChallenge:\n",
    "    def __init__(self):\n",
    "        self.run_challenge()\n",
    "\n",
    "    def run_challenge(self):\n",
    "        while True:\n",
    "            try:\n",
    "                num = int(input(\"Please enter a positive int：\"))\n",
    "                if num <= 0:\n",
    "                    raise ValueError\n",
    "                print(\"The square value of the number entered is：\", num ** 2)\n",
    "                break\n",
    "            except ValueError:\n",
    "                print(\"Wrong input，please enter a positive int！\")\n",
    "\n",
    "\n",
    "PythonChallenge()"
   ]
  },
  {
   "cell_type": "code",
   "execution_count": null,
   "id": "ef265ffc",
   "metadata": {},
   "outputs": [],
   "source": [
    "#Python Challenge 02"
   ]
  },
  {
   "cell_type": "code",
   "execution_count": null,
   "id": "8a8ea8a7",
   "metadata": {},
   "outputs": [],
   "source": [
    "class PythonChallenge:\n",
    "    def __init__(self):\n",
    "        self.run_challenge()\n",
    "\n",
    "    def run_challenge(self):\n",
    "        while True:\n",
    "            user_input = input(\"Enter a string：\")\n",
    "            if user_input.lower() == \"quit\":\n",
    "                print(\"END\")\n",
    "                break\n",
    "            user_input = \"\".join(char for char in user_input if char.isalnum())\n",
    "            if user_input.lower() == user_input[::-1].lower():\n",
    "                print(\"palindrome\")\n",
    "            else:\n",
    "                print(\"No palindrome\")\n",
    "\n",
    "\n",
    "PythonChallenge()"
   ]
  },
  {
   "cell_type": "code",
   "execution_count": null,
   "id": "424ea6aa",
   "metadata": {},
   "outputs": [],
   "source": []
  }
 ],
 "metadata": {
  "kernelspec": {
   "display_name": "Python 3 (ipykernel)",
   "language": "python",
   "name": "python3"
  },
  "language_info": {
   "codemirror_mode": {
    "name": "ipython",
    "version": 3
   },
   "file_extension": ".py",
   "mimetype": "text/x-python",
   "name": "python",
   "nbconvert_exporter": "python",
   "pygments_lexer": "ipython3",
   "version": "3.9.16"
  }
 },
 "nbformat": 4,
 "nbformat_minor": 5
}
